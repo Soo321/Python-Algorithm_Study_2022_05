{
 "cells": [
  {
   "cell_type": "markdown",
   "id": "fc1513cc",
   "metadata": {},
   "source": [
    "### 4장 빅오, 자료형\n"
   ]
  },
  {
   "cell_type": "markdown",
   "id": "bf4e3d53",
   "metadata": {},
   "source": [
    "#### 빅오\n",
    ": 입력값이 무한대로 향할 때 함수의 상한을 설명하는 수학적 표기 방법\n",
    "- O(1): 입력값이 아무리 커도 실행 시간 일정\n",
    "- O(log n) : 실행시간이 입력값에 영향 받음, 큰 입력값에도 크게 영향을 받지는 않음\n",
    "- O(n) : 실행시간이 입력값에 영향 받음, 수행시간이 입력값에 비례 -> 선형시간알고리즘\n",
    "- O(n) : 병합정렬을 비롯 대부분의 효율좋은 정량 알고리즘이 이에 해당\n",
    "- O(n^2) : 버블정령같은 비효율적인 정렬 알고리즘이 이에 해당\n",
    "- O(2^n) : 피보나치수를 재귀로 계산하는 알고리즘이 이에 해당\n",
    "- O(n!) : 외판원 문제(TSP))를 브루트 포스로 풀이 할 때가 이에 해당, 가장 느린 알고리즘"
   ]
  },
  {
   "cell_type": "markdown",
   "id": "1010e16f",
   "metadata": {},
   "source": [
    "###### 상한과 최악\n",
    "빅오표기는 복잡 함수f(n)이 있을 경우, 이 함수의 실행 상한과 하한을 의미\n",
    "- 하한: 가장 빨리 실행될 때\n",
    "- 상한: 가장 늦게 실행될 때"
   ]
  },
  {
   "cell_type": "markdown",
   "id": "51cc2644",
   "metadata": {},
   "source": [
    "#### 자료형\n",
    "\n",
    "##### 숫자\n",
    "* 파이썬에서는 숫자 정수형으로 int만 제공(long X)\n",
    "* bool은 엄밀히 따지면 논리 자료형이나 내부적으로 1(True), 0(False)\n",
    "\n",
    "##### 매핑\n",
    "* 키와 자료형으로 구성된 복합 자료형\n",
    "* 파이썬 내장 매핑 자료형은 딕셔너리\n",
    "\n",
    "##### 집합\n",
    "* 파이썬의 집합 자료형인 set은 중복된 값을 갖지 않는 자료형\n",
    " - set은 입력 순서 유지X\n",
    "\n",
    "##### 시퀀스\n",
    "* 특정 대상의 순서 있는 나열\n",
    "* 불변/가변으로 구분 됨-> str, tuple, bytes: 불변 / list: 가변\n",
    "\n",
    "##### 원시타입, 객체\n",
    "* C : 원시타입 \n",
    "* 자바 : 원시타입, 객체 \n",
    "* 파이썬 : 객체"
   ]
  }
 ],
 "metadata": {
  "kernelspec": {
   "display_name": "Python 3 (ipykernel)",
   "language": "python",
   "name": "python3"
  },
  "language_info": {
   "codemirror_mode": {
    "name": "ipython",
    "version": 3
   },
   "file_extension": ".py",
   "mimetype": "text/x-python",
   "name": "python",
   "nbconvert_exporter": "python",
   "pygments_lexer": "ipython3",
   "version": "3.9.7"
  }
 },
 "nbformat": 4,
 "nbformat_minor": 5
}
