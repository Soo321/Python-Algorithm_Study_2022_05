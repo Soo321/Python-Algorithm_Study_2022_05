{
 "cells": [
  {
   "cell_type": "markdown",
   "id": "10885b25",
   "metadata": {},
   "source": [
    "### 리스트"
   ]
  },
  {
   "cell_type": "markdown",
   "id": "ba38e7b0",
   "metadata": {},
   "source": [
    "######  - 리스트 선언 "
   ]
  },
  {
   "cell_type": "code",
   "execution_count": 27,
   "id": "947ae826",
   "metadata": {},
   "outputs": [],
   "source": [
    "a = list()"
   ]
  },
  {
   "cell_type": "code",
   "execution_count": 29,
   "id": "71833db4",
   "metadata": {},
   "outputs": [],
   "source": [
    "a = []"
   ]
  },
  {
   "cell_type": "code",
   "execution_count": 30,
   "id": "8b93b571",
   "metadata": {},
   "outputs": [],
   "source": [
    "a = [1,2,3]"
   ]
  },
  {
   "cell_type": "markdown",
   "id": "05084d6f",
   "metadata": {},
   "source": [
    "###### - 리스트 추가"
   ]
  },
  {
   "cell_type": "code",
   "execution_count": 31,
   "id": "c00798e0",
   "metadata": {},
   "outputs": [],
   "source": [
    "# 4를 추가\n",
    "a.append(4)"
   ]
  },
  {
   "cell_type": "code",
   "execution_count": 32,
   "id": "78132bae",
   "metadata": {},
   "outputs": [],
   "source": [
    "# 3번째 인덱스에 5 삽입\n",
    "a.insert(3,5)"
   ]
  },
  {
   "cell_type": "markdown",
   "id": "bf94d66a",
   "metadata": {},
   "source": [
    "###### - 리스트 추출"
   ]
  },
  {
   "cell_type": "code",
   "execution_count": 33,
   "id": "e970e528",
   "metadata": {},
   "outputs": [
    {
     "data": {
      "text/plain": [
       "[1, 2, 3, 5]"
      ]
     },
     "execution_count": 33,
     "metadata": {},
     "output_type": "execute_result"
    }
   ],
   "source": [
    "#슬라이싱 사용하여 추출 \n",
    "\n",
    "a[1:3]\n",
    "a[:3]\n",
    "a[:4]"
   ]
  },
  {
   "cell_type": "markdown",
   "id": "98769a56",
   "metadata": {},
   "source": [
    "###### - 리스트 삭제"
   ]
  },
  {
   "cell_type": "code",
   "execution_count": 34,
   "id": "93e3b440",
   "metadata": {},
   "outputs": [],
   "source": [
    "#인덱스로 값 삭제\n",
    "del a[1]"
   ]
  },
  {
   "cell_type": "code",
   "execution_count": 35,
   "id": "2fce246e",
   "metadata": {},
   "outputs": [],
   "source": [
    "a.remove(1)"
   ]
  },
  {
   "cell_type": "markdown",
   "id": "1f1ce5a3",
   "metadata": {},
   "source": [
    "### 딕셔너리"
   ]
  },
  {
   "cell_type": "markdown",
   "id": "0b049c63",
   "metadata": {},
   "source": [
    "######  - 딕셔너리 선언 "
   ]
  },
  {
   "cell_type": "code",
   "execution_count": 36,
   "id": "51c284f8",
   "metadata": {},
   "outputs": [],
   "source": [
    "a = dict()"
   ]
  },
  {
   "cell_type": "code",
   "execution_count": 37,
   "id": "f6c1805f",
   "metadata": {},
   "outputs": [],
   "source": [
    "a = {}"
   ]
  },
  {
   "cell_type": "code",
   "execution_count": 38,
   "id": "2539f769",
   "metadata": {},
   "outputs": [],
   "source": [
    "## 초기값 지정\n",
    "a = {'key1':'value1', 'key2':'value2', 'key3':'value3', 'key4':'value4'}"
   ]
  },
  {
   "cell_type": "markdown",
   "id": "c5aca2de",
   "metadata": {},
   "source": [
    "###### - 딕셔너리 추가"
   ]
  },
  {
   "cell_type": "code",
   "execution_count": 39,
   "id": "3fd5744c",
   "metadata": {},
   "outputs": [],
   "source": [
    "a['key5'] = 'value5'"
   ]
  },
  {
   "cell_type": "markdown",
   "id": "7e4acd65",
   "metadata": {},
   "source": [
    "###### - 딕셔너리 값 추출"
   ]
  },
  {
   "cell_type": "code",
   "execution_count": 41,
   "id": "9b86f357",
   "metadata": {},
   "outputs": [
    {
     "data": {
      "text/plain": [
       "'value1'"
      ]
     },
     "execution_count": 41,
     "metadata": {},
     "output_type": "execute_result"
    }
   ],
   "source": [
    "a['key1']"
   ]
  },
  {
   "cell_type": "code",
   "execution_count": 42,
   "id": "801abf1e",
   "metadata": {},
   "outputs": [
    {
     "data": {
      "text/plain": [
       "dict_items([('key1', 'value1'), ('key2', 'value2'), ('key3', 'value3'), ('key4', 'value4'), ('key5', 'value5')])"
      ]
     },
     "execution_count": 42,
     "metadata": {},
     "output_type": "execute_result"
    }
   ],
   "source": [
    "a.items()"
   ]
  },
  {
   "cell_type": "markdown",
   "id": "14615168",
   "metadata": {},
   "source": [
    "###### - 딕셔너리 값 삭제"
   ]
  },
  {
   "cell_type": "code",
   "execution_count": 44,
   "id": "7ee6c55f",
   "metadata": {},
   "outputs": [],
   "source": [
    "del a['key1']"
   ]
  },
  {
   "cell_type": "code",
   "execution_count": 45,
   "id": "255a5803",
   "metadata": {},
   "outputs": [
    {
     "data": {
      "text/plain": [
       "{'key2': 'value2', 'key3': 'value3', 'key4': 'value4', 'key5': 'value5'}"
      ]
     },
     "execution_count": 45,
     "metadata": {},
     "output_type": "execute_result"
    }
   ],
   "source": [
    "a"
   ]
  },
  {
   "cell_type": "markdown",
   "id": "50ff7528",
   "metadata": {},
   "source": [
    "#### 딕셔너리 모듈"
   ]
  },
  {
   "cell_type": "markdown",
   "id": "d569bf79",
   "metadata": {},
   "source": [
    "###### - defaultdict 객체\n",
    ": 존재하지 않는 키를 조회할 경우, 에러 메시지를 출력하는 대신 디폴트 값을 기준으로 해당 키에 대한 딕셔너리 아이템을 생성"
   ]
  },
  {
   "cell_type": "code",
   "execution_count": 46,
   "id": "9d8d2ba7",
   "metadata": {},
   "outputs": [
    {
     "data": {
      "text/plain": [
       "defaultdict(int, {'A': 5, 'B': 4})"
      ]
     },
     "execution_count": 46,
     "metadata": {},
     "output_type": "execute_result"
    }
   ],
   "source": [
    "import collections\n",
    "\n",
    "a = collections.defaultdict(int)\n",
    "a['A'] = 5\n",
    "a['B'] = 4\n",
    "\n",
    "a"
   ]
  },
  {
   "cell_type": "code",
   "execution_count": 26,
   "id": "e8aa6e6e",
   "metadata": {},
   "outputs": [
    {
     "data": {
      "text/plain": [
       "defaultdict(int, {'A': 5, 'B': 4, 'C': 2})"
      ]
     },
     "execution_count": 26,
     "metadata": {},
     "output_type": "execute_result"
    }
   ],
   "source": [
    "# Keyerror가 발생하지 않고 디폴트값인 0 기준으로 +1 연산이 바로 가능\n",
    "a['C'] += 1\n",
    "a"
   ]
  },
  {
   "cell_type": "markdown",
   "id": "0c8352c0",
   "metadata": {},
   "source": [
    "###### - Counter 객체\n",
    ": 아이템에 대한 개수를 계산해 딕셔너리로 리턴"
   ]
  },
  {
   "cell_type": "code",
   "execution_count": 52,
   "id": "9ed86280",
   "metadata": {},
   "outputs": [
    {
     "data": {
      "text/plain": [
       "Counter({1: 1, 2: 1, 3: 1, 4: 1, 5: 3, 6: 2})"
      ]
     },
     "execution_count": 52,
     "metadata": {},
     "output_type": "execute_result"
    }
   ],
   "source": [
    "a = [1, 2, 3, 4, 5, 5, 5, 6, 6]\n",
    "b = collections.Counter(a)\n",
    "b"
   ]
  },
  {
   "cell_type": "code",
   "execution_count": 54,
   "id": "35ea4c25",
   "metadata": {},
   "outputs": [
    {
     "data": {
      "text/plain": [
       "[(5, 3), (6, 2)]"
      ]
     },
     "execution_count": 54,
     "metadata": {},
     "output_type": "execute_result"
    }
   ],
   "source": [
    "## 가장 빈도 수 높은 요소 추출\n",
    "b.most_common(2)"
   ]
  },
  {
   "cell_type": "markdown",
   "id": "608dd480",
   "metadata": {},
   "source": [
    "###### - OrderdDict 객체\n",
    ": 입력 순서를 그대로 유지"
   ]
  },
  {
   "cell_type": "code",
   "execution_count": 55,
   "id": "bb1f584e",
   "metadata": {},
   "outputs": [
    {
     "data": {
      "text/plain": [
       "OrderedDict([('B', 1), ('A', 5), ('D', 10), ('E', 2)])"
      ]
     },
     "execution_count": 55,
     "metadata": {},
     "output_type": "execute_result"
    }
   ],
   "source": [
    "collections.OrderedDict( {'B':1, 'A':5, 'D':10, 'E':2})"
   ]
  }
 ],
 "metadata": {
  "kernelspec": {
   "display_name": "Python 3 (ipykernel)",
   "language": "python",
   "name": "python3"
  },
  "language_info": {
   "codemirror_mode": {
    "name": "ipython",
    "version": 3
   },
   "file_extension": ".py",
   "mimetype": "text/x-python",
   "name": "python",
   "nbconvert_exporter": "python",
   "pygments_lexer": "ipython3",
   "version": "3.9.7"
  }
 },
 "nbformat": 4,
 "nbformat_minor": 5
}
