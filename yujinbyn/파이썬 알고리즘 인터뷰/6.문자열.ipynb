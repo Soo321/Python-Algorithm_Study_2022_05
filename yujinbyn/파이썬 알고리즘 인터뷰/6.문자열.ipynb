{
 "cells": [
  {
   "cell_type": "markdown",
   "id": "4716d5ab",
   "metadata": {},
   "source": [
    "#### 6.문자열"
   ]
  },
  {
   "cell_type": "markdown",
   "id": "f81fa3f3",
   "metadata": {},
   "source": [
    "###### 1) 유효한 팰린드롬\n",
    "\n",
    "* 팰린드롬: 앞뒤가 똑같은 단어나 문장"
   ]
  },
  {
   "cell_type": "markdown",
   "id": "9dc0f2ef",
   "metadata": {},
   "source": [
    "###### 팰린드롬 확인 방법-(1) 리스트로 변환"
   ]
  },
  {
   "cell_type": "code",
   "execution_count": 54,
   "id": "7890a2ce",
   "metadata": {},
   "outputs": [
    {
     "name": "stdout",
     "output_type": "stream",
     "text": [
      "amama\n"
     ]
    }
   ],
   "source": [
    "s = input()"
   ]
  },
  {
   "cell_type": "code",
   "execution_count": 15,
   "id": "ad8ec5a9",
   "metadata": {},
   "outputs": [
    {
     "name": "stdout",
     "output_type": "stream",
     "text": [
      "amama\n"
     ]
    },
    {
     "data": {
      "text/plain": [
       "True"
      ]
     },
     "execution_count": 15,
     "metadata": {},
     "output_type": "execute_result"
    }
   ],
   "source": [
    "def isPalindrome(s):\n",
    "    strs = []\n",
    "    for char in s:\n",
    "        if char.isalnum(): # isalnum(): 영문자, 숫자 여부 판별 함수\n",
    "            strs.append(char.lower())\n",
    "\n",
    "    while len(strs) > 1:\n",
    "        if strs.pop(0) != strs.pop(): #맨 앞의 index와 맨 끝의 index 일치여부 판별\n",
    "            return False\n",
    "    \n",
    "    return True\n",
    "\n",
    "isPalindrome(s)"
   ]
  },
  {
   "cell_type": "markdown",
   "id": "a53b7a70",
   "metadata": {},
   "source": [
    "###### 팰린드롬 확인 방법-(2) 데크 자료형을 이용한 최적화"
   ]
  },
  {
   "cell_type": "code",
   "execution_count": 20,
   "id": "316c089c",
   "metadata": {},
   "outputs": [
    {
     "data": {
      "text/plain": [
       "True"
      ]
     },
     "execution_count": 20,
     "metadata": {},
     "output_type": "execute_result"
    }
   ],
   "source": [
    "import collections, List\n",
    "\n",
    "def isPalindrome(s):\n",
    "    #자료형 데크로 선언\n",
    "    strs: Deque = collections.deque()\n",
    "        \n",
    "    for char in s:\n",
    "        if char.isalnum():\n",
    "            strs.append(char.lower())\n",
    "    \n",
    "    while len(strs) > 1:\n",
    "        if strs.popleft() != strs.pop(): #맨 앞의 index와 맨 끝의 index 일치여부 판별\n",
    "            return False\n",
    "    \n",
    "    return True\n",
    "\n",
    "isPalindrome(s)"
   ]
  },
  {
   "cell_type": "markdown",
   "id": "19b8b0c6",
   "metadata": {},
   "source": [
    "###### 팰린드롬 확인 방법-(3) 슬라이싱 사용"
   ]
  },
  {
   "cell_type": "code",
   "execution_count": 23,
   "id": "d5e26f34",
   "metadata": {},
   "outputs": [
    {
     "data": {
      "text/plain": [
       "True"
      ]
     },
     "execution_count": 23,
     "metadata": {},
     "output_type": "execute_result"
    }
   ],
   "source": [
    "import re\n",
    "def isPalindrome(s):\n",
    "    s = s.lower()\n",
    "    s = re.sub('[^a-z0-9]', '', s) # 정규식으로 불필요한 문자 필터링\n",
    "    \n",
    "    return s == s[::-1]\n",
    "\n",
    "isPalindrome(s)"
   ]
  },
  {
   "cell_type": "markdown",
   "id": "db9e9f9e",
   "metadata": {},
   "source": [
    "###### 2) 문자열 뒤집기\n",
    "\n",
    "###### (1) 투포인터를 이용한 스왑 \n",
    "* 투포인터: 2개의 포인터를 이용해 범위를 조정해가며 풀이하는 방식"
   ]
  },
  {
   "cell_type": "code",
   "execution_count": 51,
   "id": "bbe155a7",
   "metadata": {},
   "outputs": [],
   "source": [
    "from typing import List\n",
    "\n",
    "def reverseString(s:List[str]) -> None:\n",
    "    left, right = 0, len(s)-1\n",
    "\n",
    "    while left < right:\n",
    "        s[left], s[right] = s[right], s[left]\n",
    "        left += 1\n",
    "        right -= 1\n"
   ]
  },
  {
   "cell_type": "markdown",
   "id": "1758ff05",
   "metadata": {},
   "source": [
    "###### (2) 파이썬 다운 방식"
   ]
  },
  {
   "cell_type": "code",
   "execution_count": 59,
   "id": "b0461781",
   "metadata": {},
   "outputs": [
    {
     "name": "stdout",
     "output_type": "stream",
     "text": [
      "['c', 'b', 'a']\n"
     ]
    }
   ],
   "source": [
    "s = ['a', 'b', 'c']\n",
    "def reverseString(s):\n",
    "    s.reverse() # reverse는 list만 가능 문자열은 슬라이싱\n",
    "    print(s)\n",
    "\n",
    "reverseString(s)"
   ]
  },
  {
   "cell_type": "markdown",
   "id": "d9e4e649",
   "metadata": {},
   "source": [
    "###### 3) 로그파일 재정렬\n",
    "- 로그를 재정렬하라\n",
    "    * 로그의 가장 앞 부분은 식별자\n",
    "    * 문자로 구성된 로그가 숫자 로그보다 앞에 온다\n",
    "    * 식별자는 순서에 영향을 끼치지 않지만, 문자가 동일할 경우 식별자 순으로 함\n",
    "    * 숫자 로그는 입력 순서대로 함\n",
    "\n",
    "###### (1) 람다와 + 연산자 이용"
   ]
  },
  {
   "cell_type": "code",
   "execution_count": 60,
   "id": "52e913fd",
   "metadata": {},
   "outputs": [],
   "source": [
    "logs = [\"dig1 8 1 5 1\", \"let1 art can\", \"dig2 3 6\", \"let2 own kit dig\", \"let3 art zero\"]"
   ]
  },
  {
   "cell_type": "code",
   "execution_count": 61,
   "id": "3208cbab",
   "metadata": {},
   "outputs": [
    {
     "data": {
      "text/plain": [
       "['let1 art can',\n",
       " 'let3 art zero',\n",
       " 'let2 own kit dig',\n",
       " 'dig1 8 1 5 1',\n",
       " 'dig2 3 6']"
      ]
     },
     "execution_count": 61,
     "metadata": {},
     "output_type": "execute_result"
    }
   ],
   "source": [
    "def reoderLogFiles(logs:List[str]) -> List[str]:\n",
    "    letters, digits = [], []\n",
    "\n",
    "    for log in logs:\n",
    "        if log.split()[1].isdigit():\n",
    "            digits.append(log)\n",
    "        else:\n",
    "            letters.append(log)\n",
    " \n",
    "    letters.sort(key=lambda x: (x.split()[1:], x.split()[0]))\n",
    "    return letters + digits\n",
    "\n",
    "\n",
    "reoderLogFiles(logs)"
   ]
  },
  {
   "cell_type": "markdown",
   "id": "8cd8e165",
   "metadata": {},
   "source": [
    "###### 4) 가장 흔한 단어\n",
    "\n",
    "- 금지된 단어를 제외한 가장 흔하게 등장하는 단어 출력\n",
    "\n",
    "###### (1) 리스트 컴프리헨션, Counter 객체 사용"
   ]
  },
  {
   "cell_type": "code",
   "execution_count": 63,
   "id": "c7335d21",
   "metadata": {},
   "outputs": [],
   "source": [
    "paragraph = \"Bob hit a ball, the hit BALL flew far after it was hit.\"\n",
    "banned = [\"hit\"]"
   ]
  },
  {
   "cell_type": "code",
   "execution_count": 66,
   "id": "ca9bee50",
   "metadata": {},
   "outputs": [
    {
     "data": {
      "text/plain": [
       "'ball'"
      ]
     },
     "execution_count": 66,
     "metadata": {},
     "output_type": "execute_result"
    }
   ],
   "source": [
    "def mostCommonWord(paragraph, banned):\n",
    "    words = [word for word in re.sub(r'[^\\w]', ' ', paragraph)    \n",
    "    .lower().split() if word not in banned]\n",
    "    \n",
    "    counts = collections.Counter(words)\n",
    "    \n",
    "    return counts.most_common(1)[0][0]\n",
    "\n",
    "mostCommonWord(paragraph, banned)"
   ]
  },
  {
   "cell_type": "markdown",
   "id": "a7b6be30",
   "metadata": {},
   "source": [
    "###### 5) 그룹 애너그램\n",
    "\n",
    "###### (1) 정렬하여 딕셔너리에 추가"
   ]
  },
  {
   "cell_type": "code",
   "execution_count": 77,
   "id": "7f367809",
   "metadata": {},
   "outputs": [
    {
     "data": {
      "text/plain": [
       "dict_values([['eat', 'tea', 'ate'], ['tan', 'nat'], ['bat']])"
      ]
     },
     "execution_count": 77,
     "metadata": {},
     "output_type": "execute_result"
    }
   ],
   "source": [
    "strs = [\"eat\", \"tea\", \"tan\", \"ate\", \"nat\", \"bat\"]\n",
    "\n",
    "def groupAnagrams(strs):\n",
    "    anagrams = collections.defaultdict(list)\n",
    "    \n",
    "    for word in strs:\n",
    "        anagrams[''.join(sorted(word))].append(word)\n",
    "    return anagrams.values()\n",
    "\n",
    "groupAnagrams(strs)"
   ]
  },
  {
   "cell_type": "markdown",
   "id": "57e3aec7",
   "metadata": {},
   "source": [
    "###### 6) 가장 긴 팰린드롬 부분 문자열\n",
    "\n",
    "###### (1) 중앙을 중심으로 확장하는 풀이\n"
   ]
  },
  {
   "cell_type": "code",
   "execution_count": 86,
   "id": "f1906464",
   "metadata": {},
   "outputs": [
    {
     "name": "stdout",
     "output_type": "stream",
     "text": [
      "aaababab\n"
     ]
    },
    {
     "data": {
      "text/plain": [
       "'ababa'"
      ]
     },
     "execution_count": 86,
     "metadata": {},
     "output_type": "execute_result"
    }
   ],
   "source": [
    "s = input()\n",
    "def longestPalindrome(s):\n",
    "    def expand(left : int, right: int)->str:\n",
    "        while left >= 0 and right <len(s) and s[left] == s[right]:\n",
    "            left -=1\n",
    "            right += 1\n",
    "        return s[left + 1 : right]\n",
    "    if len(s) < 2 or s==s[::-1]:\n",
    "        return s\n",
    "\n",
    "    result = ''\n",
    "\n",
    "    for i in range(len(s) -1):\n",
    "        result= max(result, expand(i,i+1), expand(i,i+2), key=len)\n",
    "    return result\n",
    "longestPalindrome(s)"
   ]
  },
  {
   "cell_type": "code",
   "execution_count": null,
   "id": "b615a8a1",
   "metadata": {},
   "outputs": [],
   "source": []
  }
 ],
 "metadata": {
  "kernelspec": {
   "display_name": "Python 3 (ipykernel)",
   "language": "python",
   "name": "python3"
  },
  "language_info": {
   "codemirror_mode": {
    "name": "ipython",
    "version": 3
   },
   "file_extension": ".py",
   "mimetype": "text/x-python",
   "name": "python",
   "nbconvert_exporter": "python",
   "pygments_lexer": "ipython3",
   "version": "3.9.7"
  }
 },
 "nbformat": 4,
 "nbformat_minor": 5
}
