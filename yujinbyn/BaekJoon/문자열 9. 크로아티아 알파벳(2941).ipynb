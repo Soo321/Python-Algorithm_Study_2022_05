{
 "cells": [
  {
   "cell_type": "code",
   "execution_count": null,
   "id": "f1c1e5bb",
   "metadata": {},
   "outputs": [],
   "source": [
    "## 백준 2941 크로아티아 알파벳\n",
    "\n",
    "croatia = ['c=', 'c-', 'dz=', 'd-', 'lj', 'nj', 's=', 'z=']\n",
    "word = input()\n",
    "for i in croatia:\n",
    "    word = word.replace(i, \"*\")\n",
    "print(len(word))"
   ]
  }
 ],
 "metadata": {
  "kernelspec": {
   "display_name": "Python 3 (ipykernel)",
   "language": "python",
   "name": "python3"
  },
  "language_info": {
   "codemirror_mode": {
    "name": "ipython",
    "version": 3
   },
   "file_extension": ".py",
   "mimetype": "text/x-python",
   "name": "python",
   "nbconvert_exporter": "python",
   "pygments_lexer": "ipython3",
   "version": "3.9.7"
  }
 },
 "nbformat": 4,
 "nbformat_minor": 5
}
