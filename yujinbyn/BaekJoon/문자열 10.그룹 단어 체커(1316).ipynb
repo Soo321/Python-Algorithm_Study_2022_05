{
 "cells": [
  {
   "cell_type": "code",
   "execution_count": null,
   "id": "cf9edcfa",
   "metadata": {},
   "outputs": [],
   "source": [
    "## 백준 1316 그룹단어 체커\n",
    "## 다른 분들의 풀이를 참고했습니다.\n",
    "\n",
    "n = int(input())\n",
    "group_word = n\n",
    "\n",
    "for i in range(n):\n",
    "    word = input()\n",
    "    for j in range(0, len(word)-1):\n",
    "        if word[j] == word[j+1]:\n",
    "            pass\n",
    "        elif word[j] in word[j+1:]:\n",
    "            group_word -= 1\n",
    "            break\n",
    "print(group_word)\n",
    "    \n",
    "\n"
   ]
  }
 ],
 "metadata": {
  "kernelspec": {
   "display_name": "Python 3 (ipykernel)",
   "language": "python",
   "name": "python3"
  },
  "language_info": {
   "codemirror_mode": {
    "name": "ipython",
    "version": 3
   },
   "file_extension": ".py",
   "mimetype": "text/x-python",
   "name": "python",
   "nbconvert_exporter": "python",
   "pygments_lexer": "ipython3",
   "version": "3.9.7"
  }
 },
 "nbformat": 4,
 "nbformat_minor": 5
}
