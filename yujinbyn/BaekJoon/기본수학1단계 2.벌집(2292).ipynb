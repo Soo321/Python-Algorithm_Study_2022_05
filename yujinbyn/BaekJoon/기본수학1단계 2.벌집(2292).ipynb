{
 "cells": [
  {
   "cell_type": "code",
   "execution_count": null,
   "id": "1ef7e177",
   "metadata": {},
   "outputs": [],
   "source": [
    "## 백준 기본수학1단계 2.벌집(2292)\n",
    "\n",
    "n = int(input())\n",
    "number = 1 \n",
    "x = 1\n",
    "\n",
    "while n > x:\n",
    "    number += 6 * x\n",
    "    x += 1\n",
    "\n",
    "print(x)"
   ]
  }
 ],
 "metadata": {
  "kernelspec": {
   "display_name": "Python 3 (ipykernel)",
   "language": "python",
   "name": "python3"
  },
  "language_info": {
   "codemirror_mode": {
    "name": "ipython",
    "version": 3
   },
   "file_extension": ".py",
   "mimetype": "text/x-python",
   "name": "python",
   "nbconvert_exporter": "python",
   "pygments_lexer": "ipython3",
   "version": "3.9.7"
  }
 },
 "nbformat": 4,
 "nbformat_minor": 5
}
