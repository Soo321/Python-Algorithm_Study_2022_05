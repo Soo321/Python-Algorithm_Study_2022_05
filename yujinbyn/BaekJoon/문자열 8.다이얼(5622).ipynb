{
 "cells": [
  {
   "cell_type": "code",
   "execution_count": null,
   "id": "2ebed839",
   "metadata": {},
   "outputs": [],
   "source": [
    "## 백준 5622 다이얼\n",
    "word = input()\n",
    "\n",
    "def call_time(word):\n",
    "    dial = {'ABC':2, 'DEF':3, 'GHI':4, 'JKL':5, 'MNO':6, 'PQRS':7 , 'TUV':8, 'WXYZ':9}\n",
    "    time = 0\n",
    "    for i in word:\n",
    "        for j in dial.keys():\n",
    "            if i in j:\n",
    "                time += (dial[j]+1)\n",
    "    print(time)\n",
    "    \n",
    "call_time(word)"
   ]
  }
 ],
 "metadata": {
  "kernelspec": {
   "display_name": "Python 3 (ipykernel)",
   "language": "python",
   "name": "python3"
  },
  "language_info": {
   "codemirror_mode": {
    "name": "ipython",
    "version": 3
   },
   "file_extension": ".py",
   "mimetype": "text/x-python",
   "name": "python",
   "nbconvert_exporter": "python",
   "pygments_lexer": "ipython3",
   "version": "3.9.7"
  }
 },
 "nbformat": 4,
 "nbformat_minor": 5
}
