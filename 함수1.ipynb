{
  "nbformat": 4,
  "nbformat_minor": 0,
  "metadata": {
    "colab": {
      "name": "함수1.ipynb",
      "provenance": [],
      "authorship_tag": "ABX9TyPJSivNq1kGYkIIQroEErZ5",
      "include_colab_link": true
    },
    "kernelspec": {
      "name": "python3",
      "display_name": "Python 3"
    },
    "language_info": {
      "name": "python"
    }
  },
  "cells": [
    {
      "cell_type": "markdown",
      "metadata": {
        "id": "view-in-github",
        "colab_type": "text"
      },
      "source": [
        "<a href=\"https://colab.research.google.com/github/choisubeen/Python-Algorithm_Study_2022_05/blob/soop/%ED%95%A8%EC%88%981.ipynb\" target=\"_parent\"><img src=\"https://colab.research.google.com/assets/colab-badge.svg\" alt=\"Open In Colab\"/></a>"
      ]
    },
    {
      "cell_type": "code",
      "execution_count": null,
      "metadata": {
        "id": "_mPd0STJB3cY"
      },
      "outputs": [],
      "source": [
        "def calcul(a):\n",
        "    ans = 0\n",
        "    for i in a:\n",
        "        ans+=i\n",
        "    return ans"
      ]
    }
  ]
}