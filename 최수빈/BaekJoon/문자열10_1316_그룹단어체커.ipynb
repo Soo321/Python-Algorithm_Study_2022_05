{
  "nbformat": 4,
  "nbformat_minor": 0,
  "metadata": {
    "colab": {
      "name": "문자열10_1316_그룹단어체커.ipynb",
      "provenance": [],
      "authorship_tag": "ABX9TyNwNh4SpMmpbzo4vPfGWZBC"
    },
    "kernelspec": {
      "name": "python3",
      "display_name": "Python 3"
    },
    "language_info": {
      "name": "python"
    }
  },
  "cells": [
    {
      "cell_type": "code",
      "execution_count": 11,
      "metadata": {
        "colab": {
          "base_uri": "https://localhost:8080/"
        },
        "id": "_mPd0STJB3cY",
        "outputId": "b965f771-6800-429e-e50e-996f86d17fd7"
      },
      "outputs": [
        {
          "output_type": "stream",
          "name": "stdout",
          "text": [
            "4\n",
            "aba\n",
            "abab\n",
            "abcabc\n",
            "a\n",
            "1\n"
          ]
        }
      ],
      "source": [
        "# 단어 N개를 입력으로 받아 그룹 단어의 개수를 출력하는 프로그램을 작성하시오.\n",
        "# 첫째 줄에 단어의 개수 N이 들어온다.둘째 줄부터 N개의 줄에 단어가 들어온다.\n",
        "\n",
        "N = int(input())\n",
        "count = N\n",
        "for i in range(N):\n",
        "  a=input()\n",
        "  for j in range(len(a)-1):\n",
        "    if a[j] ==a[j+1]:\n",
        "      pass\n",
        "    elif a[j] in a[j+1:]:\n",
        "      count -=1\n",
        "      break\n",
        "print(count)"
      ]
    }
  ]
}