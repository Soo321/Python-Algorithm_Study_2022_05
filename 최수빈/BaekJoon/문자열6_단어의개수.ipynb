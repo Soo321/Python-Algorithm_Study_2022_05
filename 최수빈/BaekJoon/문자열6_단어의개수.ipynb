{
  "nbformat": 4,
  "nbformat_minor": 0,
  "metadata": {
    "colab": {
      "name": "문자열6_단어의개수.ipynb",
      "provenance": [],
      "authorship_tag": "ABX9TyPLLtRGajgvMQU6rRxXHqui"
    },
    "kernelspec": {
      "name": "python3",
      "display_name": "Python 3"
    },
    "language_info": {
      "name": "python"
    }
  },
  "cells": [
    {
      "cell_type": "code",
      "execution_count": 46,
      "metadata": {
        "colab": {
          "base_uri": "https://localhost:8080/"
        },
        "id": "_mPd0STJB3cY",
        "outputId": "b1b7d768-86e1-4645-b381-5f2728d7eec4"
      },
      "outputs": [
        {
          "output_type": "stream",
          "name": "stdout",
          "text": [
            " The first character is a blank\n",
            "6\n"
          ]
        }
      ],
      "source": [
        "# 첫 줄에 영어 대소문자와 공백으로 이루어진 문자열이 주어진다.단어는 공백 한 개로 구분되며 단어의 개수를 출력\n",
        "word = input()\n",
        "word_list = word.split(\" \")\n",
        "if word_list[-1] == '':  # 앞뒤에 공백있는거 고려해줘야함\n",
        "  del word_list[-1]\n",
        "if word_list[0] == '':\n",
        "  del word_list[0]\n",
        "print(len(word_list))"
      ]
    }
  ]
}