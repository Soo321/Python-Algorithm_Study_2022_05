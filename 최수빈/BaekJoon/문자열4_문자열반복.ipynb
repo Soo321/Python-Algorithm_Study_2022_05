{
  "nbformat": 4,
  "nbformat_minor": 0,
  "metadata": {
    "colab": {
      "name": "문자열4_문자열반복.ipynb",
      "provenance": [],
      "authorship_tag": "ABX9TyNqj5bpfQqdGAKHgyURv8ry"
    },
    "kernelspec": {
      "name": "python3",
      "display_name": "Python 3"
    },
    "language_info": {
      "name": "python"
    }
  },
  "cells": [
    {
      "cell_type": "code",
      "execution_count": 22,
      "metadata": {
        "colab": {
          "base_uri": "https://localhost:8080/"
        },
        "id": "_mPd0STJB3cY",
        "outputId": "8cfcdb42-f44a-4ee4-ea88-0017f05f4081"
      },
      "outputs": [
        {
          "output_type": "stream",
          "name": "stdout",
          "text": [
            "2\n",
            "2 \n",
            "\n",
            "3 abc\n",
            "aaabbbccc\n"
          ]
        }
      ],
      "source": [
        "# 문자열 S를 입력받은 후에, 각 문자를 R번 반복해 새 문자열 P를 만든 후 출력하는 프로그램을 작성하시오. \n",
        "t = int(input())\n",
        "\n",
        "for i in range(t):\n",
        "  a = input()\n",
        "  if len(a)>1:\n",
        "      a = a.split(\" \")\n",
        "      num = int(a[0])\n",
        "      word = a[1]\n",
        "      for j in word:\n",
        "        print(j*num, end='')\n",
        "      print()"
      ]
    },
    {
      "cell_type": "code",
      "source": [
        ""
      ],
      "metadata": {
        "id": "URmKEIJeNIqJ"
      },
      "execution_count": null,
      "outputs": []
    }
  ]
}