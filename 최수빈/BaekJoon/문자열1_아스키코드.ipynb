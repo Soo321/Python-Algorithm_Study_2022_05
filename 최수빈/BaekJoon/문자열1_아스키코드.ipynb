{
  "nbformat": 4,
  "nbformat_minor": 0,
  "metadata": {
    "colab": {
      "name": "문자열1_아스키코드.ipynb",
      "provenance": [],
      "authorship_tag": "ABX9TyNl1zdhAZT+kn6gmhWfhQoR"
    },
    "kernelspec": {
      "name": "python3",
      "display_name": "Python 3"
    },
    "language_info": {
      "name": "python"
    }
  },
  "cells": [
    {
      "cell_type": "code",
      "execution_count": 3,
      "metadata": {
        "colab": {
          "base_uri": "https://localhost:8080/"
        },
        "id": "_mPd0STJB3cY",
        "outputId": "9da58536-d469-4732-ef07-666c79d9058b"
      },
      "outputs": [
        {
          "name": "stdout",
          "output_type": "stream",
          "text": [
            "9\n"
          ]
        },
        {
          "output_type": "execute_result",
          "data": {
            "text/plain": [
              "57"
            ]
          },
          "metadata": {},
          "execution_count": 3
        }
      ],
      "source": [
        "#알파벳 소문자, 대문자, 숫자 0-9중 하나가 주어졌을 때, 주어진 글자의 아스키 코드값을 출력하는 프로그램을 작성\n",
        "a= input()\n",
        "print(ord(a))\n"
      ]
    }
  ]
}