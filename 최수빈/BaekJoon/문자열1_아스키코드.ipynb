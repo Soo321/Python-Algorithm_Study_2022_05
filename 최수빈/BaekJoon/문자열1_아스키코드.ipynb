{
  "nbformat": 4,
  "nbformat_minor": 0,
  "metadata": {
    "colab": {
      "name": "문자열1_아스키코드.ipynb",
      "provenance": [],
      "authorship_tag": "ABX9TyPoqDUbdeQoidByjwKW0UCW",
      "include_colab_link": true
    },
    "kernelspec": {
      "name": "python3",
      "display_name": "Python 3"
    },
    "language_info": {
      "name": "python"
    }
  },
  "cells": [
    {
      "cell_type": "markdown",
      "metadata": {
        "id": "view-in-github",
        "colab_type": "text"
      },
      "source": [
        "<a href=\"https://colab.research.google.com/github/choisubeen/Python-Algorithm_Study_2022_05/blob/soop/%EC%B5%9C%EC%88%98%EB%B9%88/BaekJoon/%EB%AC%B8%EC%9E%90%EC%97%B41_%EC%95%84%EC%8A%A4%ED%82%A4%EC%BD%94%EB%93%9C.ipynb\" target=\"_parent\"><img src=\"https://colab.research.google.com/assets/colab-badge.svg\" alt=\"Open In Colab\"/></a>"
      ]
    },
    {
      "cell_type": "code",
      "execution_count": 2,
      "metadata": {
        "colab": {
          "base_uri": "https://localhost:8080/"
        },
        "id": "_mPd0STJB3cY",
        "outputId": "45733217-0f68-4f4c-b931-6d2c4029cbdd"
      },
      "outputs": [
        {
          "name": "stdout",
          "output_type": "stream",
          "text": [
            "A\n"
          ]
        },
        {
          "output_type": "execute_result",
          "data": {
            "text/plain": [
              "65"
            ]
          },
          "metadata": {},
          "execution_count": 2
        }
      ],
      "source": [
        "#알파벳 소문자, 대문자, 숫자 0-9중 하나가 주어졌을 때, 주어진 글자의 아스키 코드값을 출력하는 프로그램을 작성\n",
        "a= input()\n",
        "ord(a)\n"
      ]
    }
  ]
}