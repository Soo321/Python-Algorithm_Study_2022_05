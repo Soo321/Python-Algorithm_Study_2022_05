{
  "nbformat": 4,
  "nbformat_minor": 0,
  "metadata": {
    "colab": {
      "name": "문자열3_알파벳찾기.ipynb",
      "provenance": [],
      "authorship_tag": "ABX9TyN0NYJNSOufq38gjzik6U77"
    },
    "kernelspec": {
      "name": "python3",
      "display_name": "Python 3"
    },
    "language_info": {
      "name": "python"
    }
  },
  "cells": [
    {
      "cell_type": "code",
      "execution_count": 8,
      "metadata": {
        "colab": {
          "base_uri": "https://localhost:8080/"
        },
        "id": "_mPd0STJB3cY",
        "outputId": "ee5b5cdb-6e78-4792-9577-76b93424486f"
      },
      "outputs": [
        {
          "output_type": "stream",
          "name": "stdout",
          "text": [
            "baekjoon\n",
            "1 0 -1 -1 2 -1 -1 -1 -1 4 3 -1 -1 7 5 -1 -1 -1 -1 -1 -1 -1 -1 -1 -1 -1 "
          ]
        }
      ],
      "source": [
        "#알파벳 소문자로만 이루어진 단어 S가 주어진다. 각각의 알파벳에 대해서, 단어에 포함되어 있는 경우에는 처음 등장하는 위치를\n",
        "# 포함되어 있지 않은 경우에는 -1을 출력하는 프로그램을 작성\n",
        "s = input()\n",
        "num = list('abcdefghijklmnopqrstuvwxyz')\n",
        "for i in num:\n",
        "  if i in s:\n",
        "    print(s.index(i), end=' ')\n",
        "  else:\n",
        "    print('-1', end = ' ')"
      ]
    }
  ]
}