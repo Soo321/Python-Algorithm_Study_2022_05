{
  "nbformat": 4,
  "nbformat_minor": 0,
  "metadata": {
    "colab": {
      "name": "문자열9_2941_크로아티아 알파벳.ipynb",
      "provenance": [],
      "authorship_tag": "ABX9TyMrfYd89xTXIo1B805BctOo"
    },
    "kernelspec": {
      "name": "python3",
      "display_name": "Python 3"
    },
    "language_info": {
      "name": "python"
    }
  },
  "cells": [
    {
      "cell_type": "code",
      "execution_count": 7,
      "metadata": {
        "colab": {
          "base_uri": "https://localhost:8080/"
        },
        "id": "_mPd0STJB3cY",
        "outputId": "aca1ef55-dba5-4576-9288-66b1e20c87a7"
      },
      "outputs": [
        {
          "output_type": "stream",
          "name": "stdout",
          "text": [
            "ddz=z=\n",
            "3\n"
          ]
        }
      ],
      "source": [
        "#  단어가 주어졌을 때, 몇 개의 크로아티아 알파벳으로 이루어져 있는지 출력한다.\n",
        "\n",
        "word_list = ['c=','c-','dz=','d-','lj','nj','s=','z=']\n",
        "\n",
        "a=input()\n",
        "for i in word_list:\n",
        "  a = a.replace(i,'*')\n",
        "print(len(a))"
      ]
    }
  ]
}