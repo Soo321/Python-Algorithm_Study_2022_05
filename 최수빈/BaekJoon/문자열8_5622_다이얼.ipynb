{
  "nbformat": 4,
  "nbformat_minor": 0,
  "metadata": {
    "colab": {
      "name": "문자열8_5622_다이얼.ipynb",
      "provenance": [],
      "authorship_tag": "ABX9TyM6h5bqdSMwPLnkllBvykLF"
    },
    "kernelspec": {
      "name": "python3",
      "display_name": "Python 3"
    },
    "language_info": {
      "name": "python"
    }
  },
  "cells": [
    {
      "cell_type": "code",
      "execution_count": 5,
      "metadata": {
        "colab": {
          "base_uri": "https://localhost:8080/"
        },
        "id": "_mPd0STJB3cY",
        "outputId": "ffea3aab-2608-48a5-8668-8b492ae5e934"
      },
      "outputs": [
        {
          "output_type": "stream",
          "name": "stdout",
          "text": [
            "WA\n",
            "13\n"
          ]
        }
      ],
      "source": [
        "# 숫자 1을 걸려면 총 2초가 필요하다. 1보다 큰 수를 거는데 걸리는 시간은 이보다 더 걸리며, 한 칸 옆에 있는 숫자를 걸기 위해선 1초씩 더 걸린다.\n",
        "# 2: ABC 3:DEF 4:GHI 5:JKL 6:MNO 7:PQRS 8:TUV 9:WXYZ\n",
        "# 첫째 줄에 알파벳 대문자로 이루어진 단어가 주어진다.\n",
        "a = input()\n",
        "time = []\n",
        "for i in range(len(a)):\n",
        "  if a[i]=='A' or a[i]=='B' or a[i]=='C':\n",
        "    time.append(3)\n",
        "  elif a[i]=='D' or a[i]=='E' or a[i]== 'F':\n",
        "    time.append(4)\n",
        "  elif a[i]=='G' or a[i]=='H' or a[i]=='I':\n",
        "    time.append(5)\n",
        "  elif a[i]=='J' or a[i]=='K' or a[i]=='L':\n",
        "    time.append(6)\n",
        "  elif a[i]=='M' or a[i]=='N' or a[i]=='O':\n",
        "    time.append(7)\n",
        "  elif a[i]=='P' or a[i]=='Q' or a[i]=='R' or a[i]=='S':\n",
        "    time.append(8)\n",
        "  elif a[i]=='T' or a[i]=='U' or a[i]=='V':\n",
        "    time.append(9)\n",
        "  elif a[i]=='W' or a[i]=='X' or a[i]=='Y' or a[i]=='Z':\n",
        "    time.append(10)\n",
        "print(sum(time))"
      ]
    }
  ]
}