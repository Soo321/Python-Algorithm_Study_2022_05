{
  "nbformat": 4,
  "nbformat_minor": 0,
  "metadata": {
    "colab": {
      "name": "기본수학1_2292_벌집.ipynb",
      "provenance": [],
      "authorship_tag": "ABX9TyNdwt/2TQR3Eit5ZvuTvndO"
    },
    "kernelspec": {
      "name": "python3",
      "display_name": "Python 3"
    },
    "language_info": {
      "name": "python"
    }
  },
  "cells": [
    {
      "cell_type": "code",
      "execution_count": 21,
      "metadata": {
        "colab": {
          "base_uri": "https://localhost:8080/"
        },
        "id": "_mPd0STJB3cY",
        "outputId": "1d02e408-c76d-4bef-cd66-0026859ecea1"
      },
      "outputs": [
        {
          "output_type": "stream",
          "name": "stdout",
          "text": [
            "13\n",
            "3\n"
          ]
        }
      ],
      "source": [
        "# 입력으로 주어진 방까지 최소 개수의 방을 지나서 갈 때 몇 개의 방을 지나는지 출력한다.\n",
        "# 1 > 2~7 6개 > 8~19 12개 > 20~37 18개 \n",
        "N = int(input())\n",
        "count = 1\n",
        "num =1\n",
        "while N > num:\n",
        "  num += 6*count\n",
        "  count +=1\n",
        "print(count)\n"
      ]
    }
  ]
}