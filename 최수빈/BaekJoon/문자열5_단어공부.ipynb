{
  "nbformat": 4,
  "nbformat_minor": 0,
  "metadata": {
    "colab": {
      "name": "문자열5_단어공부.ipynb",
      "provenance": [],
      "authorship_tag": "ABX9TyOZtTxDEJt9GOzk1K5bqjx3"
    },
    "kernelspec": {
      "name": "python3",
      "display_name": "Python 3"
    },
    "language_info": {
      "name": "python"
    }
  },
  "cells": [
    {
      "cell_type": "code",
      "execution_count": 33,
      "metadata": {
        "colab": {
          "base_uri": "https://localhost:8080/"
        },
        "id": "_mPd0STJB3cY",
        "outputId": "4c541eed-a5b3-4e38-a370-05f551338f92"
      },
      "outputs": [
        {
          "output_type": "stream",
          "name": "stdout",
          "text": [
            "zZa\n",
            "Z\n"
          ]
        }
      ],
      "source": [
        "#알파벳 대소문자로 된 단어가 주어지면, 이 단어에서 가장 많이 사용된 알파벳이 무엇인지 알아내는 프로그램을 작성하시오. > 가장 많이 나온거 대문자로\n",
        "#단, 대문자와 소문자를 구분하지 않는다.  가장 많이 사용된 알파벳이 여러 개 존재하는 경우에는 ?를 출력한다.\n",
        "s = input().upper()\n",
        "word_list = list(set(s))\n",
        "count_list = []\n",
        "\n",
        "for i in word_list:\n",
        "  count_list.append(s.count(i))\n",
        "\n",
        "if count_list.count(max(count_list)) > 1:\n",
        "  print('?')\n",
        "else:\n",
        "  print(word_list[count_list.index(max(count_list))])"
      ]
    }
  ]
}