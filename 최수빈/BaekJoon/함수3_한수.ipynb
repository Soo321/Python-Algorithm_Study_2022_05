{
  "nbformat": 4,
  "nbformat_minor": 0,
  "metadata": {
    "colab": {
      "name": "함수3_한수.ipynb",
      "provenance": [],
      "authorship_tag": "ABX9TyPZ/uE4G1N3qX0B69WbLM3B",
      "include_colab_link": true
    },
    "kernelspec": {
      "name": "python3",
      "display_name": "Python 3"
    },
    "language_info": {
      "name": "python"
    }
  },
  "cells": [
    {
      "cell_type": "markdown",
      "metadata": {
        "id": "view-in-github",
        "colab_type": "text"
      },
      "source": [
        "<a href=\"https://colab.research.google.com/github/choisubeen/Python-Algorithm_Study_2022_05/blob/soop/%EC%B5%9C%EC%88%98%EB%B9%88/BaekJoon/%ED%95%A8%EC%88%983_%ED%95%9C%EC%88%98.ipynb\" target=\"_parent\"><img src=\"https://colab.research.google.com/assets/colab-badge.svg\" alt=\"Open In Colab\"/></a>"
      ]
    },
    {
      "cell_type": "code",
      "execution_count": 1,
      "metadata": {
        "colab": {
          "base_uri": "https://localhost:8080/"
        },
        "id": "_mPd0STJB3cY",
        "outputId": "0ede84c4-f3e8-4f74-a1a8-de118cdcd397"
      },
      "outputs": [
        {
          "output_type": "stream",
          "name": "stdout",
          "text": [
            "110\n",
            "99\n"
          ]
        }
      ],
      "source": [
        "n= int(input())\n",
        "h = 0\n",
        "for i in range(1,n+1):\n",
        "    if i <=99:# 99까지는 모두 한수\n",
        "        h += 1 # 한수 개수세기\n",
        "    else:\n",
        "        a = list(map(int,str(i))) # 각 자리수로 나누려면 str형태여야 함\n",
        "        if a[0]-a[1]==a[1]-a[2]: # 등차인지 확인\n",
        "            h+=1\n",
        "print(h)"
      ]
    }
  ]
}