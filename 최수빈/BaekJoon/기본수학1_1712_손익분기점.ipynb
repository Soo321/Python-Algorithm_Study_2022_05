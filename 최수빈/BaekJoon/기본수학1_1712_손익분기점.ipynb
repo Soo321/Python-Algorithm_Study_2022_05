{
  "nbformat": 4,
  "nbformat_minor": 0,
  "metadata": {
    "colab": {
      "name": "기본수학1_1712_손익분기점.ipynb",
      "provenance": [],
      "authorship_tag": "ABX9TyNRH85h+GLVkoktcaeQzbxj"
    },
    "kernelspec": {
      "name": "python3",
      "display_name": "Python 3"
    },
    "language_info": {
      "name": "python"
    }
  },
  "cells": [
    {
      "cell_type": "code",
      "execution_count": 20,
      "metadata": {
        "colab": {
          "base_uri": "https://localhost:8080/"
        },
        "id": "_mPd0STJB3cY",
        "outputId": "91f96034-1355-4026-afbe-87ab3c05bfe3"
      },
      "outputs": [
        {
          "output_type": "stream",
          "name": "stdout",
          "text": [
            "2100000000 9 10\n",
            "2100000001\n"
          ]
        }
      ],
      "source": [
        "# 첫째 줄에 A, B, C가 빈 칸을 사이에 두고 순서대로 주어진다.\n",
        "# 최초로 이익이 발생하는 판매량을 출력한다. 손익분기점이 존재하지 않으면 -1을 출력한다.\n",
        "a,b,c = map(int, input().split())\n",
        "if b>=c:\n",
        "  num = -1\n",
        "else:\n",
        "  num = int(a/(c-b))+1\n",
        "print(num)"
      ]
    }
  ]
}