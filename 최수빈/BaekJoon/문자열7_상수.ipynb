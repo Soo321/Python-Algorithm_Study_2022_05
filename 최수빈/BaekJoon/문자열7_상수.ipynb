{
  "nbformat": 4,
  "nbformat_minor": 0,
  "metadata": {
    "colab": {
      "name": "문자열7_상수.ipynb",
      "provenance": [],
      "authorship_tag": "ABX9TyNqjMDNQPlQBv5o/627czyv"
    },
    "kernelspec": {
      "name": "python3",
      "display_name": "Python 3"
    },
    "language_info": {
      "name": "python"
    }
  },
  "cells": [
    {
      "cell_type": "code",
      "execution_count": 57,
      "metadata": {
        "colab": {
          "base_uri": "https://localhost:8080/"
        },
        "id": "_mPd0STJB3cY",
        "outputId": "3548f0c9-5c32-4ba5-9b74-83edc8a96052"
      },
      "outputs": [
        {
          "output_type": "stream",
          "name": "stdout",
          "text": [
            "734 893\n",
            "437\n"
          ]
        }
      ],
      "source": [
        "# 상수는 수를 다른 사람과 다르게 거꾸로 읽는다. 상수의 대답을 출력해라 ex) 765 > 567 \n",
        "a, b = input().split()\n",
        "new_a = a[::-1]\n",
        "new_b = b[::-1]\n",
        "if new_a > new_b:\n",
        "  print(new_a)\n",
        "else:\n",
        "  print(new_b)"
      ]
    }
  ]
}