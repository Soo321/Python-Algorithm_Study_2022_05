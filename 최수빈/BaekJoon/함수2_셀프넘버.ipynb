{
  "nbformat": 4,
  "nbformat_minor": 0,
  "metadata": {
    "colab": {
      "name": "함수2_셀프넘버.ipynb",
      "provenance": [],
      "authorship_tag": "ABX9TyMscLYPra6pRSDmfIdmjIyK",
      "include_colab_link": true
    },
    "kernelspec": {
      "name": "python3",
      "display_name": "Python 3"
    },
    "language_info": {
      "name": "python"
    }
  },
  "cells": [
    {
      "cell_type": "markdown",
      "metadata": {
        "id": "view-in-github",
        "colab_type": "text"
      },
      "source": [
        "<a href=\"https://colab.research.google.com/github/choisubeen/Python-Algorithm_Study_2022_05/blob/soop/%EC%B5%9C%EC%88%98%EB%B9%88/BaekJoon/%ED%95%A8%EC%88%982_%EC%85%80%ED%94%84%EB%84%98%EB%B2%84.ipynb\" target=\"_parent\"><img src=\"https://colab.research.google.com/assets/colab-badge.svg\" alt=\"Open In Colab\"/></a>"
      ]
    },
    {
      "cell_type": "code",
      "execution_count": null,
      "metadata": {
        "id": "_mPd0STJB3cY"
      },
      "outputs": [],
      "source": [
        "# 못풀어서 다른 사람 코드 참고 +리뷰 진행했습니다.\n",
        "numbers = list(range(1,10001))\n",
        "remove = []\n",
        "\n",
        "for i in range(1,10001):\n",
        "    a=i\n",
        "    for k in range((len(str(i)))): #str로 변경해야지 떼어낼 수 있으니까\n",
        "        a += int(str(i)[k]) # a에 i의 k번째 자릿수 더하기\n",
        "    remove.append(int(a))\n",
        "last = list(set(numbers)-set(remove)) # set이 중복 허용 안하니까\n",
        "last.sort()\n",
        "\n",
        "for i in range(len(last)):\n",
        "    print(last[i])"
      ]
    }
  ]
}