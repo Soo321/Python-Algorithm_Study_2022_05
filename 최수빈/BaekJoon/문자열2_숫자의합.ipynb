{
  "nbformat": 4,
  "nbformat_minor": 0,
  "metadata": {
    "colab": {
      "name": "문자열2_숫자의합.ipynb",
      "provenance": [],
      "authorship_tag": "ABX9TyMqdKlbQLMrlEAx4xnxLMex"
    },
    "kernelspec": {
      "name": "python3",
      "display_name": "Python 3"
    },
    "language_info": {
      "name": "python"
    }
  },
  "cells": [
    {
      "cell_type": "code",
      "execution_count": 7,
      "metadata": {
        "colab": {
          "base_uri": "https://localhost:8080/"
        },
        "id": "_mPd0STJB3cY",
        "outputId": "66875908-ac94-4e7d-8859-170b1dcd214a"
      },
      "outputs": [
        {
          "output_type": "stream",
          "name": "stdout",
          "text": [
            "5\n",
            "54321\n",
            "15\n"
          ]
        }
      ],
      "source": [
        "#N개의 숫자가 공백 없이 쓰여있다. 이 숫자를 모두 합해서 출력하는 프로그램을 작성하시오.\n",
        "num= int(input())\n",
        "a = input()\n",
        "num_list = []\n",
        "for i in range(num):\n",
        "  num_list.append(int(a[i]))\n",
        "print(sum(num_list))"
      ]
    }
  ]
}